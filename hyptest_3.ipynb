{
 "cells": [
  {
   "cell_type": "code",
   "execution_count": 4,
   "id": "f1ebe02d",
   "metadata": {
    "ExecuteTime": {
     "end_time": "2022-12-15T11:28:27.705967Z",
     "start_time": "2022-12-15T11:28:27.698606Z"
    }
   },
   "outputs": [],
   "source": [
    "import pandas as pd \n",
    "import scipy\n",
    "from scipy import stats\n",
    "import numpy as np"
   ]
  },
  {
   "cell_type": "code",
   "execution_count": null,
   "id": "56dd25f8",
   "metadata": {},
   "outputs": [],
   "source": [
    "#null hypothesis H0-all proportions are equal\n",
    "#alternative hypothesis H1:all proportions are not equal"
   ]
  },
  {
   "cell_type": "code",
   "execution_count": 5,
   "id": "83c6f871",
   "metadata": {
    "ExecuteTime": {
     "end_time": "2022-12-15T11:28:30.296375Z",
     "start_time": "2022-12-15T11:28:30.272980Z"
    }
   },
   "outputs": [
    {
     "data": {
      "text/html": [
       "<div>\n",
       "<style scoped>\n",
       "    .dataframe tbody tr th:only-of-type {\n",
       "        vertical-align: middle;\n",
       "    }\n",
       "\n",
       "    .dataframe tbody tr th {\n",
       "        vertical-align: top;\n",
       "    }\n",
       "\n",
       "    .dataframe thead th {\n",
       "        text-align: right;\n",
       "    }\n",
       "</style>\n",
       "<table border=\"1\" class=\"dataframe\">\n",
       "  <thead>\n",
       "    <tr style=\"text-align: right;\">\n",
       "      <th></th>\n",
       "      <th>Observed Values</th>\n",
       "      <th>East</th>\n",
       "      <th>West</th>\n",
       "      <th>North</th>\n",
       "      <th>South</th>\n",
       "    </tr>\n",
       "  </thead>\n",
       "  <tbody>\n",
       "    <tr>\n",
       "      <th>0</th>\n",
       "      <td>Males</td>\n",
       "      <td>50</td>\n",
       "      <td>142</td>\n",
       "      <td>131</td>\n",
       "      <td>70</td>\n",
       "    </tr>\n",
       "    <tr>\n",
       "      <th>1</th>\n",
       "      <td>Females</td>\n",
       "      <td>435</td>\n",
       "      <td>1523</td>\n",
       "      <td>1356</td>\n",
       "      <td>750</td>\n",
       "    </tr>\n",
       "  </tbody>\n",
       "</table>\n",
       "</div>"
      ],
      "text/plain": [
       "  Observed Values  East  West  North  South\n",
       "0           Males    50   142    131     70\n",
       "1         Females   435  1523   1356    750"
      ]
     },
     "execution_count": 5,
     "metadata": {},
     "output_type": "execute_result"
    }
   ],
   "source": [
    "data=pd.read_csv('BuyerRatio.csv')\n",
    "data"
   ]
  },
  {
   "cell_type": "code",
   "execution_count": 7,
   "id": "b7e2a7dc",
   "metadata": {
    "ExecuteTime": {
     "end_time": "2022-12-15T11:30:04.045612Z",
     "start_time": "2022-12-15T11:30:04.030945Z"
    }
   },
   "outputs": [],
   "source": [
    "obv=np.array([[50,142,131,70],[435,1523,1356,750]])"
   ]
  },
  {
   "cell_type": "code",
   "execution_count": 11,
   "id": "ea5eabdb",
   "metadata": {
    "ExecuteTime": {
     "end_time": "2022-12-15T11:32:31.670867Z",
     "start_time": "2022-12-15T11:32:31.647818Z"
    }
   },
   "outputs": [
    {
     "data": {
      "text/plain": [
       "(1.595945538661058,\n",
       " 0.6603094907091882,\n",
       " 3,\n",
       " array([[  42.76531299,  146.81287862,  131.11756787,   72.30424052],\n",
       "        [ 442.23468701, 1518.18712138, 1355.88243213,  747.69575948]]))"
      ]
     },
     "execution_count": 11,
     "metadata": {},
     "output_type": "execute_result"
    }
   ],
   "source": [
    "chi_square=scipy.stats.chi2_contingency(obv)\n",
    "chi_square"
   ]
  },
  {
   "cell_type": "code",
   "execution_count": 15,
   "id": "01f35fcb",
   "metadata": {
    "ExecuteTime": {
     "end_time": "2022-12-15T11:36:04.404696Z",
     "start_time": "2022-12-15T11:36:04.381435Z"
    },
    "scrolled": true
   },
   "outputs": [
    {
     "data": {
      "text/plain": [
       "[['', 'Test Statistic', 'p-value'],\n",
       " ['Sample data', 1.595945538661058, 0.6603094907091882]]"
      ]
     },
     "execution_count": 15,
     "metadata": {},
     "output_type": "execute_result"
    }
   ],
   "source": [
    "chi_square=[['','Test Statistic','p-value'],['Sample data',chi_square[0],chi_square[1]]]\n",
    "chi_square  "
   ]
  },
  {
   "cell_type": "code",
   "execution_count": null,
   "id": "8b244b10",
   "metadata": {},
   "outputs": [],
   "source": [
    "# α value at 5% L.O.S is 0.05\n",
    "#from above test we got p value as 0.66 0.66>0.05 i.e, p> α so we accept null hypothesis\n",
    "#Therefore, all proportions are equal."
   ]
  }
 ],
 "metadata": {
  "kernelspec": {
   "display_name": "Python 3 (ipykernel)",
   "language": "python",
   "name": "python3"
  },
  "language_info": {
   "codemirror_mode": {
    "name": "ipython",
    "version": 3
   },
   "file_extension": ".py",
   "mimetype": "text/x-python",
   "name": "python",
   "nbconvert_exporter": "python",
   "pygments_lexer": "ipython3",
   "version": "3.9.13"
  }
 },
 "nbformat": 4,
 "nbformat_minor": 5
}
